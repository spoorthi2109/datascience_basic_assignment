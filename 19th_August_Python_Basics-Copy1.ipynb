{
 "cells": [
  {
   "cell_type": "code",
   "execution_count": null,
   "id": "eddf4106-21ce-4724-bdab-b1aa0849e062",
   "metadata": {},
   "outputs": [],
   "source": [
    "# phyton basic variable assignment"
   ]
  },
  {
   "cell_type": "code",
   "execution_count": 18,
   "id": "72767e3b-2f07-46d1-8897-2ce6cd83b454",
   "metadata": {},
   "outputs": [],
   "source": [
    "# 1. Declare two variables, `x` and `y`, and assign them integer values. Swap the values of these variables without using any temporary variable #"
   ]
  },
  {
   "cell_type": "code",
   "execution_count": 7,
   "id": "75543aae-6e35-4138-9181-163a4f986dd9",
   "metadata": {},
   "outputs": [],
   "source": [
    "a = 5"
   ]
  },
  {
   "cell_type": "code",
   "execution_count": 8,
   "id": "a297ae30-d59c-40a1-a3d0-6774f5c58bbf",
   "metadata": {},
   "outputs": [],
   "source": [
    "b = 6"
   ]
  },
  {
   "cell_type": "code",
   "execution_count": 6,
   "id": "98782f43-8163-4acf-974a-b4a45971dff6",
   "metadata": {},
   "outputs": [],
   "source": [
    "# declaring two variables "
   ]
  },
  {
   "cell_type": "code",
   "execution_count": 9,
   "id": "29cfc25a-a523-4e08-80ac-1071818c7178",
   "metadata": {},
   "outputs": [],
   "source": [
    "a = a+b # add a+b = 5+6=11 and store in a"
   ]
  },
  {
   "cell_type": "code",
   "execution_count": 10,
   "id": "3e12eba6-2420-415c-8a58-035457785c7a",
   "metadata": {},
   "outputs": [],
   "source": [
    "b = a-b # minus b from 11 = 11-6 = 5, now 5 stored in b"
   ]
  },
  {
   "cell_type": "code",
   "execution_count": 11,
   "id": "059e42f3-c15b-490a-acfc-de7d47afa07f",
   "metadata": {},
   "outputs": [],
   "source": [
    "a = a-b # minus 5 from 11 = 11-5 = 6, stored in a"
   ]
  },
  {
   "cell_type": "code",
   "execution_count": 16,
   "id": "36d669bf-81f4-4222-adef-e3b6c42b093f",
   "metadata": {},
   "outputs": [
    {
     "name": "stdout",
     "output_type": "stream",
     "text": [
      "value of a after swapping with b: 6\n"
     ]
    }
   ],
   "source": [
    "print ('value of a after swapping with b:',a)"
   ]
  },
  {
   "cell_type": "code",
   "execution_count": 17,
   "id": "8d96abee-a908-4e58-83ba-465748dce39e",
   "metadata": {},
   "outputs": [
    {
     "name": "stdout",
     "output_type": "stream",
     "text": [
      " value of b after swapping with a: 5\n"
     ]
    }
   ],
   "source": [
    "print (' value of b after swapping with a:', b)"
   ]
  },
  {
   "cell_type": "code",
   "execution_count": null,
   "id": "8b015b7f-130c-4edf-9fd3-de4deff6383f",
   "metadata": {},
   "outputs": [],
   "source": []
  },
  {
   "cell_type": "code",
   "execution_count": 79,
   "id": "9b9b8929-a2c8-4574-8959-86b418622243",
   "metadata": {},
   "outputs": [],
   "source": [
    "# 2. Create a program that calculates the area of a rectangle. Take the length and width as inputs from the user and store them in variables. Calculate and display the area."
   ]
  },
  {
   "cell_type": "code",
   "execution_count": 37,
   "id": "c71fba30-37f4-46ed-9712-a759defb35ec",
   "metadata": {},
   "outputs": [
    {
     "name": "stdin",
     "output_type": "stream",
     "text": [
      " enter the length of the rectangle:  10\n"
     ]
    }
   ],
   "source": [
    "l = float(input (\" enter the length of the rectangle: \")) #input length"
   ]
  },
  {
   "cell_type": "code",
   "execution_count": 38,
   "id": "97696b32-5f24-4a7b-9d17-bb7abbe22114",
   "metadata": {},
   "outputs": [
    {
     "name": "stdin",
     "output_type": "stream",
     "text": [
      " enter the width of the rectangle : 5\n"
     ]
    }
   ],
   "source": [
    "w = float(input (\" enter the width of the rectangle :\" )) #input width"
   ]
  },
  {
   "cell_type": "code",
   "execution_count": 80,
   "id": "027d0784-f8d2-479f-81e1-089290f4b7aa",
   "metadata": {},
   "outputs": [],
   "source": [
    "area = l * w # area = length * width"
   ]
  },
  {
   "cell_type": "code",
   "execution_count": 81,
   "id": "64744ef3-fc0a-4c09-a419-6cb914f8828f",
   "metadata": {},
   "outputs": [
    {
     "name": "stdout",
     "output_type": "stream",
     "text": [
      "area of rectangle :  50.0\n"
     ]
    }
   ],
   "source": [
    "print (\"area of rectangle : \",area) #displaying result"
   ]
  },
  {
   "cell_type": "code",
   "execution_count": null,
   "id": "cee70f4c-7bdd-4022-adfa-c309cfe548a6",
   "metadata": {},
   "outputs": [],
   "source": []
  },
  {
   "cell_type": "code",
   "execution_count": 50,
   "id": "63d9ff63-ec29-40ac-9a0a-09d1ffb731d2",
   "metadata": {},
   "outputs": [],
   "source": [
    "# 3. Write a Python program that converts temperatures from Celsius to Fahrenheit. Take the temperature in Celsius as input, store it in a variable, convert it to Fahrenheit, and display the result."
   ]
  },
  {
   "cell_type": "code",
   "execution_count": 45,
   "id": "b860af32-a7c5-43ba-a516-1eaa6b7442c2",
   "metadata": {},
   "outputs": [
    {
     "name": "stdin",
     "output_type": "stream",
     "text": [
      " enter the temperature in celsius 28\n"
     ]
    }
   ],
   "source": [
    "c = float (input (\" enter the temperature in celsius\")) #asking user to input temperature in celsius"
   ]
  },
  {
   "cell_type": "code",
   "execution_count": 47,
   "id": "8530755a-23ff-4fdd-9fa4-bd07df65159e",
   "metadata": {},
   "outputs": [],
   "source": [
    "f = (c*9/5)+32 #formula"
   ]
  },
  {
   "cell_type": "code",
   "execution_count": 48,
   "id": "840eb937-3f18-411a-92b8-3b5d24894074",
   "metadata": {},
   "outputs": [
    {
     "name": "stdout",
     "output_type": "stream",
     "text": [
      " Temperature in Fahrenheit is:  82.4\n"
     ]
    }
   ],
   "source": [
    "print (\" Temperature in Fahrenheit is: \", f) #printing the result"
   ]
  },
  {
   "cell_type": "code",
   "execution_count": null,
   "id": "f61b51dd-e76e-467c-80c6-04f455e93870",
   "metadata": {},
   "outputs": [],
   "source": []
  },
  {
   "cell_type": "code",
   "execution_count": 49,
   "id": "9d6e55af-d4e2-4e8d-9dbe-0a05247f8f26",
   "metadata": {},
   "outputs": [],
   "source": [
    "#String Based Questions"
   ]
  },
  {
   "cell_type": "code",
   "execution_count": 51,
   "id": "ecef7d5d-a780-4fbf-ae5c-3ce9a2c95023",
   "metadata": {},
   "outputs": [],
   "source": [
    "# 1. Write a Python program that takes a string as input and prints the length of the string."
   ]
  },
  {
   "cell_type": "code",
   "execution_count": 82,
   "id": "ef61a94d-6099-49b9-8acc-a5eb77b7645d",
   "metadata": {},
   "outputs": [
    {
     "name": "stdin",
     "output_type": "stream",
     "text": [
      " enter the string : pwskills\n"
     ]
    }
   ],
   "source": [
    "s1 = input (\" enter the string :\")"
   ]
  },
  {
   "cell_type": "code",
   "execution_count": 85,
   "id": "28536e1d-509a-4562-83d0-3e1bd353267d",
   "metadata": {},
   "outputs": [],
   "source": [
    "s2 = len(s1) #calculating length of the string using the in built function len"
   ]
  },
  {
   "cell_type": "code",
   "execution_count": 86,
   "id": "30d82d07-920e-4674-ad71-b80b7573ae17",
   "metadata": {},
   "outputs": [
    {
     "name": "stdout",
     "output_type": "stream",
     "text": [
      "Length of the string entered : 8\n"
     ]
    }
   ],
   "source": [
    "print (\"Length of the string entered :\",s2) #displaying the result"
   ]
  },
  {
   "cell_type": "code",
   "execution_count": null,
   "id": "667ff083-7c70-4455-aa27-b5cf0bf7ae6e",
   "metadata": {},
   "outputs": [],
   "source": []
  },
  {
   "cell_type": "code",
   "execution_count": 59,
   "id": "c7006ad3-4d0f-4712-b97a-c060c4cc6cd8",
   "metadata": {},
   "outputs": [],
   "source": [
    "# 2. Create a program that takes a sentence from the user and counts the number of vowels (a, e, i, o, u) in the string."
   ]
  },
  {
   "cell_type": "code",
   "execution_count": 87,
   "id": "8024f2aa-f2e8-4286-a6ba-fa90d54c87b1",
   "metadata": {},
   "outputs": [
    {
     "name": "stdin",
     "output_type": "stream",
     "text": [
      " enter a string: spoorthi\n"
     ]
    }
   ],
   "source": [
    "s3 = input(\" enter a string:\")"
   ]
  },
  {
   "cell_type": "code",
   "execution_count": 106,
   "id": "9030bb9b-6c23-4fa9-8eed-ea00910a019d",
   "metadata": {},
   "outputs": [],
   "source": [
    "# Defining vowels\n",
    "vowels = 'aeiouAEIOU'"
   ]
  },
  {
   "cell_type": "code",
   "execution_count": 107,
   "id": "00315213-97c1-40ec-afb0-cb935ecc2543",
   "metadata": {},
   "outputs": [],
   "source": [
    "# Counting the number of vowels in the sentence\n",
    "vowel_count = sum(1 for char in s3 if char in vowels)"
   ]
  },
  {
   "cell_type": "code",
   "execution_count": 108,
   "id": "30901e97-d439-4c5d-8979-ec1f0d3754b4",
   "metadata": {},
   "outputs": [
    {
     "name": "stdout",
     "output_type": "stream",
     "text": [
      "Number of vowels in the sentence: 3\n"
     ]
    }
   ],
   "source": [
    "print(\"Number of vowels in the sentence:\", vowel_count) # Print the count of vowels"
   ]
  },
  {
   "cell_type": "code",
   "execution_count": null,
   "id": "badc71f1-3f16-42cc-8da8-74bede02aff6",
   "metadata": {},
   "outputs": [],
   "source": []
  },
  {
   "cell_type": "code",
   "execution_count": 71,
   "id": "0f0ac620-cd16-4d8a-a926-8067261b7fac",
   "metadata": {},
   "outputs": [],
   "source": [
    "#3. Given a string, reverse the order of characters using string slicing and print the reversed string."
   ]
  },
  {
   "cell_type": "code",
   "execution_count": 88,
   "id": "ee7cdb9c-bd82-447f-bf69-a74c5af5b21f",
   "metadata": {},
   "outputs": [
    {
     "name": "stdin",
     "output_type": "stream",
     "text": [
      " Enter a string : spoorthi\n"
     ]
    }
   ],
   "source": [
    "s4 = input (\" Enter a string :\")"
   ]
  },
  {
   "cell_type": "code",
   "execution_count": 90,
   "id": "6bedd18f-52fe-4fc5-9224-bab8008eb50d",
   "metadata": {},
   "outputs": [],
   "source": [
    "rev = s4[::-1] #reversing string using slicing\n"
   ]
  },
  {
   "cell_type": "code",
   "execution_count": 91,
   "id": "99393d08-6659-452b-9107-fb8c4262723d",
   "metadata": {},
   "outputs": [
    {
     "name": "stdout",
     "output_type": "stream",
     "text": [
      " reversed string is : ihtroops\n"
     ]
    }
   ],
   "source": [
    "print (\" reversed string is :\",rev)"
   ]
  },
  {
   "cell_type": "code",
   "execution_count": null,
   "id": "290c63e1-db81-4ff1-bab6-0c4662822b99",
   "metadata": {},
   "outputs": [],
   "source": []
  },
  {
   "cell_type": "code",
   "execution_count": 98,
   "id": "16dc2b88-8ec5-451f-bec7-35d27b6831e8",
   "metadata": {},
   "outputs": [],
   "source": [
    "#4. Write a program that takes a string as input and checks if it is a palindrome (reads the same forwards and backwards)."
   ]
  },
  {
   "cell_type": "code",
   "execution_count": 92,
   "id": "999d45b5-5d86-41bf-b846-bd2adbd20fbf",
   "metadata": {
    "tags": []
   },
   "outputs": [
    {
     "name": "stdin",
     "output_type": "stream",
     "text": [
      "Enter a string:  pwskills\n"
     ]
    }
   ],
   "source": [
    "s5 = input(\"Enter a string: \")  #input first string"
   ]
  },
  {
   "cell_type": "code",
   "execution_count": 93,
   "id": "f75dbb62-326d-44d5-8898-05e27cdc3bcf",
   "metadata": {},
   "outputs": [
    {
     "name": "stdin",
     "output_type": "stream",
     "text": [
      "enter a string: malayalam\n"
     ]
    }
   ],
   "source": [
    "s6 = input(\"enter a string:\") # input second string"
   ]
  },
  {
   "cell_type": "code",
   "execution_count": 99,
   "id": "7cd1d670-4a1a-4ee7-ae4e-8b9135a1261d",
   "metadata": {},
   "outputs": [
    {
     "name": "stdout",
     "output_type": "stream",
     "text": [
      "The string is not a palindrome.\n"
     ]
    }
   ],
   "source": [
    "#checking whether string 1 is a palindrome or not by checking whether original string is equal to reversed one and displaying the results\n",
    "if s5 == s5[::-1]: \n",
    "    print(\"The string is a palindrome.\")\n",
    "else:\n",
    "    print(\"The string is not a palindrome.\")"
   ]
  },
  {
   "cell_type": "code",
   "execution_count": 101,
   "id": "53ca465d-d658-4726-906e-c31a1aa9c3cf",
   "metadata": {},
   "outputs": [
    {
     "name": "stdout",
     "output_type": "stream",
     "text": [
      "The string is a palindrome.\n"
     ]
    }
   ],
   "source": [
    "# checking if string 2 is a palindrome and displaying the results\n",
    "if s6 == s6[::-1]:\n",
    "    print(\"The string is a palindrome.\")\n",
    "else:\n",
    "    print(\"The string is not a palindrome.\")"
   ]
  },
  {
   "cell_type": "code",
   "execution_count": null,
   "id": "10838590-2d31-41e7-9371-eed18b30b7d8",
   "metadata": {},
   "outputs": [],
   "source": []
  },
  {
   "cell_type": "code",
   "execution_count": 100,
   "id": "c7589acf-2f38-45e5-a2ed-7af9c5a72219",
   "metadata": {},
   "outputs": [],
   "source": [
    "#5. Create a program that takes a string as input and removes all the spaces from it. Print the modified string without spaces."
   ]
  },
  {
   "cell_type": "code",
   "execution_count": 102,
   "id": "ca5fcac4-cf33-4c53-9bea-dfff04842dab",
   "metadata": {},
   "outputs": [
    {
     "name": "stdin",
     "output_type": "stream",
     "text": [
      "enter the string: spoorthi bangera\n"
     ]
    }
   ],
   "source": [
    "s7 = input(\"enter the string:\")"
   ]
  },
  {
   "cell_type": "code",
   "execution_count": 103,
   "id": "32ab568d-3514-4449-81e1-ea0f720d27c0",
   "metadata": {},
   "outputs": [],
   "source": [
    "#Remove spaces from the input string"
   ]
  },
  {
   "cell_type": "code",
   "execution_count": 104,
   "id": "47b9db40-6ee3-4686-9fee-f3a729552dd8",
   "metadata": {},
   "outputs": [],
   "source": [
    "new_s7 = s7.replace(\" \", \"\")"
   ]
  },
  {
   "cell_type": "code",
   "execution_count": 105,
   "id": "766a4b48-e111-4677-8ecc-39eab19d3319",
   "metadata": {},
   "outputs": [
    {
     "name": "stdout",
     "output_type": "stream",
     "text": [
      "new string without any spaces: spoorthibangera\n"
     ]
    }
   ],
   "source": [
    "print (\"new string without any spaces:\",new_s7)"
   ]
  },
  {
   "cell_type": "code",
   "execution_count": null,
   "id": "afe4b1cc-a63f-4e7b-b851-b238e18f4d31",
   "metadata": {},
   "outputs": [],
   "source": []
  },
  {
   "cell_type": "code",
   "execution_count": null,
   "id": "ef5ced0c-c099-4109-a4fa-92b5e6751abf",
   "metadata": {},
   "outputs": [],
   "source": [
    "g\n"
   ]
  }
 ],
 "metadata": {
  "kernelspec": {
   "display_name": "Python 3 (ipykernel)",
   "language": "python",
   "name": "python3"
  },
  "language_info": {
   "codemirror_mode": {
    "name": "ipython",
    "version": 3
   },
   "file_extension": ".py",
   "mimetype": "text/x-python",
   "name": "python",
   "nbconvert_exporter": "python",
   "pygments_lexer": "ipython3",
   "version": "3.10.8"
  }
 },
 "nbformat": 4,
 "nbformat_minor": 5
}
